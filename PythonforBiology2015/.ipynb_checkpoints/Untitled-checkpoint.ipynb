{
 "cells": [
  {
   "cell_type": "code",
   "execution_count": 3,
   "metadata": {
    "collapsed": false
   },
   "outputs": [],
   "source": [
    "from string import maketrans\n",
    "\n",
    "inTab = \"aeiou\"\n",
    "outTab = \"AEIOU\"\n",
    "\n",
    "trans = maketrans(inTab, outTab)"
   ]
  },
  {
   "cell_type": "code",
   "execution_count": 7,
   "metadata": {
    "collapsed": false
   },
   "outputs": [
    {
     "data": {
      "text/plain": [
       "'thIs Is strIng ExAmplE....wOw!!!'"
      ]
     },
     "execution_count": 7,
     "metadata": {},
     "output_type": "execute_result"
    }
   ],
   "source": [
    "str = \"this is string example....wow!!!\"\n",
    "str.translate(trans)"
   ]
  },
  {
   "cell_type": "code",
   "execution_count": 8,
   "metadata": {
    "collapsed": true
   },
   "outputs": [],
   "source": [
    "## Reverse transcribe a DNA sequence\n",
    "\n",
    "def reverseComplement(sequence, isDNA=True):\n",
    "    \n",
    "    from string import maketrans\n",
    "    \n",
    "    if isDNA:\n",
    "        sequence = sequence.replace(\"U\", \"T\")\n",
    "        transTable = maketrans(\"ATGC\", \"TACG\")\n",
    "        \n",
    "    else:\n",
    "        sequence = sequence.replace(\"T\", \"U\")\n",
    "        transTable = maketrans(\"AUGC\", \"UACG\")\n",
    "        \n",
    "    complement = sequence.translate(transTable)\n",
    "    reversComp = complement[::-1]\n",
    "    \n",
    "    return reversComp"
   ]
  },
  {
   "cell_type": "code",
   "execution_count": 9,
   "metadata": {
    "collapsed": false
   },
   "outputs": [
    {
     "name": "stdout",
     "output_type": "stream",
     "text": [
      "TGTAATC\n"
     ]
    }
   ],
   "source": [
    "seq1 = \"GATTACA\"\n",
    "seq2 = \"AUGGUG\"\n",
    "\n",
    "print(reverseComplement(seq1))"
   ]
  },
  {
   "cell_type": "code",
   "execution_count": 10,
   "metadata": {
    "collapsed": false
   },
   "outputs": [
    {
     "name": "stdout",
     "output_type": "stream",
     "text": [
      "UGUAAUC\n"
     ]
    }
   ],
   "source": [
    "print(reverseComplement(seq1, isDNA=False))"
   ]
  },
  {
   "cell_type": "code",
   "execution_count": 11,
   "metadata": {
    "collapsed": false
   },
   "outputs": [
    {
     "name": "stdout",
     "output_type": "stream",
     "text": [
      "CACCAT\n"
     ]
    }
   ],
   "source": [
    "print(reverseComplement(seq2))"
   ]
  },
  {
   "cell_type": "code",
   "execution_count": 12,
   "metadata": {
    "collapsed": false
   },
   "outputs": [
    {
     "name": "stdout",
     "output_type": "stream",
     "text": [
      "CACCAU\n"
     ]
    }
   ],
   "source": [
    "print(reverseComplement(seq2, isDNA=False))"
   ]
  },
  {
   "cell_type": "code",
   "execution_count": 13,
   "metadata": {
    "collapsed": false
   },
   "outputs": [
    {
     "name": "stdout",
     "output_type": "stream",
     "text": [
      "CACCAU\n"
     ]
    }
   ],
   "source": [
    "print(reverseComplement(seq2, False))"
   ]
  },
  {
   "cell_type": "code",
   "execution_count": null,
   "metadata": {
    "collapsed": true
   },
   "outputs": [],
   "source": []
  }
 ],
 "metadata": {
  "kernelspec": {
   "display_name": "Python 2",
   "language": "python",
   "name": "python2"
  },
  "language_info": {
   "codemirror_mode": {
    "name": "ipython",
    "version": 2
   },
   "file_extension": ".py",
   "mimetype": "text/x-python",
   "name": "python",
   "nbconvert_exporter": "python",
   "pygments_lexer": "ipython2",
   "version": "2.7.9"
  }
 },
 "nbformat": 4,
 "nbformat_minor": 0
}
